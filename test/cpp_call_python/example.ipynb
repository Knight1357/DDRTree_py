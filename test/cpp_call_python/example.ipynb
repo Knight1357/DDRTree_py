{
 "cells": [
  {
   "cell_type": "markdown",
   "metadata": {},
   "source": [
    "# cpp 调用 python 代码\n",
    "## 使用 cmake 编译 C++ 代码\n"
   ]
  },
  {
   "cell_type": "code",
   "execution_count": 17,
   "metadata": {
    "vscode": {
     "languageId": "shellscript"
    }
   },
   "outputs": [
    {
     "name": "stderr",
     "output_type": "stream",
     "text": [
      "+ pwd\n",
      "+ rm -rf build\n"
     ]
    },
    {
     "name": "stdout",
     "output_type": "stream",
     "text": [
      "/mnt/ssd/geneplus/develop/liushen/DDRTree/test/cpp_call_python\n"
     ]
    },
    {
     "name": "stderr",
     "output_type": "stream",
     "text": [
      "+ mkdir build\n",
      "+ cd build\n",
      "+ cmake ..\n"
     ]
    },
    {
     "name": "stdout",
     "output_type": "stream",
     "text": [
      "-- The C compiler identification is GNU 11.2.0\n",
      "-- The CXX compiler identification is GNU 11.2.0\n",
      "-- Check for working C compiler: /opt/miniconda/bin/x86_64-conda-linux-gnu-cc\n",
      "-- Check for working C compiler: /opt/miniconda/bin/x86_64-conda-linux-gnu-cc -- works\n",
      "-- Detecting C compiler ABI info\n",
      "-- Detecting C compiler ABI info - done\n",
      "-- Detecting C compile features\n",
      "-- Detecting C compile features - done\n",
      "-- Check for working CXX compiler: /opt/miniconda/bin/x86_64-conda-linux-gnu-c++\n",
      "-- Check for working CXX compiler: /opt/miniconda/bin/x86_64-conda-linux-gnu-c++ -- works\n",
      "-- Detecting CXX compiler ABI info\n",
      "-- Detecting CXX compiler ABI info - done\n",
      "-- Detecting CXX compile features\n",
      "-- Detecting CXX compile features - done\n",
      "-- Found Python3: /opt/miniconda/envs/r42/bin/python3 (found version \"3.12.3\") found components: Interpreter Development \n",
      "-- Performing Test HAS_FLTO\n",
      "-- Performing Test HAS_FLTO - Success\n",
      "-- Found pybind11: /opt/miniconda/include (found version \"2.13.6\")\n",
      "-- Configuring done\n",
      "-- Generating done\n",
      "-- Build files have been written to: /mnt/ssd/geneplus/develop/liushen/DDRTree/test/cpp_call_python/build\n"
     ]
    },
    {
     "name": "stderr",
     "output_type": "stream",
     "text": [
      "+ cmake --build .\n"
     ]
    },
    {
     "name": "stdout",
     "output_type": "stream",
     "text": [
      "make[1]: Entering directory '/mnt/ssd/geneplus/develop/liushen/DDRTree/test/cpp_call_python/build'\n",
      "make[2]: Entering directory '/mnt/ssd/geneplus/develop/liushen/DDRTree/test/cpp_call_python/build'\n",
      "\u001b[35m\u001b[1mScanning dependencies of target example\u001b[0m\n",
      "make[2]: Leaving directory '/mnt/ssd/geneplus/develop/liushen/DDRTree/test/cpp_call_python/build'\n",
      "make[2]: Entering directory '/mnt/ssd/geneplus/develop/liushen/DDRTree/test/cpp_call_python/build'\n",
      "[ 50%] \u001b[32mBuilding CXX object CMakeFiles/example.dir/example.cpp.o\u001b[0m\n",
      "[100%] \u001b[32m\u001b[1mLinking CXX executable example\u001b[0m\n",
      "make[2]: Leaving directory '/mnt/ssd/geneplus/develop/liushen/DDRTree/test/cpp_call_python/build'\n",
      "[100%] Built target example\n",
      "make[1]: Leaving directory '/mnt/ssd/geneplus/develop/liushen/DDRTree/test/cpp_call_python/build'\n"
     ]
    }
   ],
   "source": [
    "%%bash\n",
    "set -x  # 打开命令调试模式，打印每一步的命令和输出\n",
    "pwd\n",
    "rm -rf build\n",
    "\n",
    "mkdir build && cd build && \\\n",
    "cmake .. && \\\n",
    "cmake --build ."
   ]
  },
  {
   "cell_type": "markdown",
   "metadata": {},
   "source": [
    "## 执行可执行文件"
   ]
  },
  {
   "cell_type": "code",
   "execution_count": 25,
   "metadata": {
    "vscode": {
     "languageId": "shellscript"
    }
   },
   "outputs": [
    {
     "name": "stdout",
     "output_type": "stream",
     "text": [
      "add(3, 5) = 8\n",
      "Hello, World!\n"
     ]
    }
   ],
   "source": [
    "%%bash\n",
    "./build/example"
   ]
  }
 ],
 "metadata": {
  "kernelspec": {
   "display_name": "r42",
   "language": "python",
   "name": "python3"
  },
  "language_info": {
   "codemirror_mode": {
    "name": "ipython",
    "version": 3
   },
   "file_extension": ".py",
   "mimetype": "text/x-python",
   "name": "python",
   "nbconvert_exporter": "python",
   "pygments_lexer": "ipython3",
   "version": "3.12.3"
  }
 },
 "nbformat": 4,
 "nbformat_minor": 2
}
