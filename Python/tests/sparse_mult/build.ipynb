{
 "cells": [
  {
   "cell_type": "markdown",
   "metadata": {},
   "source": [
    "# 构建 Rust 包"
   ]
  },
  {
   "cell_type": "code",
   "execution_count": 4,
   "metadata": {
    "vscode": {
     "languageId": "shellscript"
    }
   },
   "outputs": [
    {
     "name": "stdout",
     "output_type": "stream",
     "text": [
      "/mnt/ssd/geneplus/develop/liushen/DDRTree/Python/tests/sparse_mult\n"
     ]
    },
    {
     "name": "stderr",
     "output_type": "stream",
     "text": [
      "\u001b[1m\u001b[32m     Removed\u001b[0m 346 files, 133.7MiB total\n",
      "\u001b[1m\u001b[32m   Compiling\u001b[0m autocfg v1.4.0\n",
      "\u001b[1m\u001b[32m   Compiling\u001b[0m libm v0.2.11\n",
      "\u001b[1m\u001b[32m   Compiling\u001b[0m proc-macro2 v1.0.92\n",
      "\u001b[1m\u001b[32m   Compiling\u001b[0m unicode-ident v1.0.14\n",
      "\u001b[1m\u001b[32m   Compiling\u001b[0m libc v0.2.169\n",
      "\u001b[1m\u001b[32m   Compiling\u001b[0m crossbeam-utils v0.8.21\n",
      "\u001b[1m\u001b[32m   Compiling\u001b[0m byteorder v1.5.0\n",
      "\u001b[1m\u001b[32m   Compiling\u001b[0m rayon-core v1.12.1\n",
      "\u001b[1m\u001b[32m   Compiling\u001b[0m cfg-if v1.0.0\n",
      "\u001b[1m\u001b[32m   Compiling\u001b[0m ndarray v0.13.1\n",
      "\u001b[1m\u001b[32m   Compiling\u001b[0m rawpointer v0.2.1\n",
      "\u001b[1m\u001b[32m   Compiling\u001b[0m either v1.13.0\n",
      "\u001b[1m\u001b[32m   Compiling\u001b[0m smallvec v1.13.2\n",
      "\u001b[1m\u001b[32m   Compiling\u001b[0m matrixmultiply v0.2.4\n",
      "\u001b[1m\u001b[32m   Compiling\u001b[0m num-traits v0.2.19\n",
      "\u001b[1m\u001b[32m   Compiling\u001b[0m num-complex v0.2.4\n",
      "\u001b[1m\u001b[32m   Compiling\u001b[0m crossbeam-epoch v0.9.18\n",
      "\u001b[1m\u001b[32m   Compiling\u001b[0m quote v1.0.37\n",
      "\u001b[1m\u001b[32m   Compiling\u001b[0m crossbeam-deque v0.8.6\n",
      "\u001b[1m\u001b[32m   Compiling\u001b[0m syn v2.0.90\n",
      "\u001b[1m\u001b[32m   Compiling\u001b[0m getrandom v0.2.15\n",
      "\u001b[1m\u001b[32m   Compiling\u001b[0m num_cpus v1.16.0\n",
      "\u001b[1m\u001b[32m   Compiling\u001b[0m rand_core v0.6.4\n",
      "\u001b[1m\u001b[32m   Compiling\u001b[0m approx v0.3.2\n",
      "\u001b[1m\u001b[32m   Compiling\u001b[0m num-integer v0.1.46\n",
      "\u001b[1m\u001b[32m   Compiling\u001b[0m rayon v1.10.0\n",
      "\u001b[1m\u001b[32m   Compiling\u001b[0m alga v0.9.3\n",
      "\u001b[1m\u001b[32m   Compiling\u001b[0m zerocopy-derive v0.7.35\n",
      "\u001b[1m\u001b[32m   Compiling\u001b[0m sprs v0.8.1\n",
      "\u001b[1m\u001b[32m   Compiling\u001b[0m zerocopy v0.7.35\n",
      "\u001b[1m\u001b[32m   Compiling\u001b[0m ppv-lite86 v0.2.20\n",
      "\u001b[1m\u001b[32m   Compiling\u001b[0m rand_chacha v0.3.1\n",
      "\u001b[1m\u001b[32m   Compiling\u001b[0m rand v0.8.5\n",
      "\u001b[1m\u001b[32m   Compiling\u001b[0m sparse_mult v0.1.0 (/mnt/ssd/geneplus/develop/liushen/DDRTree/Python/tests/sparse_mult)\n",
      "\u001b[0m\u001b[1m\u001b[33mwarning\u001b[0m\u001b[0m\u001b[1m: unused import: `CsMatBase`\u001b[0m\n",
      "\u001b[0m \u001b[0m\u001b[0m\u001b[1m\u001b[38;5;12m--> \u001b[0m\u001b[0msrc/lib.rs:1:19\u001b[0m\n",
      "\u001b[0m  \u001b[0m\u001b[0m\u001b[1m\u001b[38;5;12m|\u001b[0m\n",
      "\u001b[0m\u001b[1m\u001b[38;5;12m1\u001b[0m\u001b[0m \u001b[0m\u001b[0m\u001b[1m\u001b[38;5;12m|\u001b[0m\u001b[0m \u001b[0m\u001b[0muse sprs::{CsMat, CsMatBase};\u001b[0m\n",
      "\u001b[0m  \u001b[0m\u001b[0m\u001b[1m\u001b[38;5;12m| \u001b[0m\u001b[0m                  \u001b[0m\u001b[0m\u001b[1m\u001b[33m^^^^^^^^^\u001b[0m\n",
      "\u001b[0m  \u001b[0m\u001b[0m\u001b[1m\u001b[38;5;12m|\u001b[0m\n",
      "\u001b[0m  \u001b[0m\u001b[0m\u001b[1m\u001b[38;5;12m= \u001b[0m\u001b[0m\u001b[1mnote\u001b[0m\u001b[0m: `#[warn(unused_imports)]` on by default\u001b[0m\n",
      "\n",
      "\u001b[1m\u001b[33mwarning\u001b[0m\u001b[1m:\u001b[0m `sparse_mult` (lib) generated 1 warning (run `cargo fix --lib -p sparse_mult` to apply 1 suggestion)\n",
      "\u001b[1m\u001b[32m    Finished\u001b[0m dev [unoptimized + debuginfo] target(s) in 6.40s\n"
     ]
    }
   ],
   "source": [
    "%%bash\n",
    "\n",
    "pwd\n",
    "cargo clean\n",
    "cargo build\n"
   ]
  },
  {
   "cell_type": "code",
   "execution_count": 2,
   "metadata": {
    "vscode": {
     "languageId": "shellscript"
    }
   },
   "outputs": [
    {
     "name": "stderr",
     "output_type": "stream",
     "text": [
      "🔗 Found pyo3 bindings\n",
      "🐍 Found CPython 3.12 at /opt/miniconda/envs/r42/bin/python\n",
      "\u001b[1m\u001b[32m   Compiling\u001b[0m pyo3-build-config v0.18.3\n",
      "\u001b[1m\u001b[32m   Compiling\u001b[0m pyo3-ffi v0.18.3\n",
      "\u001b[1m\u001b[32m   Compiling\u001b[0m pyo3 v0.18.3\n",
      "\u001b[1m\u001b[32m   Compiling\u001b[0m sparse_module v0.1.0 (/mnt/ssd/geneplus/develop/liushen/DDRTree/Python/tests/sparse_module)\n",
      "\u001b[1m\u001b[32m    Finished\u001b[0m dev [unoptimized + debuginfo] target(s) in 5.49s\n",
      "📦 Built wheel for CPython 3.12 to /tmp/.tmpztXETd/sparse_module-0.1.0-cp312-cp312-linux_x86_64.whl\n",
      "⚠️ Warning: pip raised a warning running [\"-m\", \"pip\", \"--disable-pip-version-check\", \"install\", \"--no-deps\", \"--force-reinstall\", \"/tmp/.tmpztXETd/sparse_module-0.1.0-cp312-cp312-linux_x86_64.whl\"]:\n",
      "\u001b[33mDEPRECATION: Loading egg at /opt/miniconda/envs/r42/lib/python3.12/site-packages/example-0.1-py3.12-linux-x86_64.egg is deprecated. pip 25.1 will enforce this behaviour change. A possible replacement is to use pip for package installation. Discussion can be found at https://github.com/pypa/pip/issues/12330\u001b[0m\u001b[33m\n",
      "\u001b[0m\u001b[33mWARNING: Running pip as the 'root' user can result in broken permissions and conflicting behaviour with the system package manager, possibly rendering your system unusable.It is recommended to use a virtual environment instead: https://pip.pypa.io/warnings/venv. Use the --root-user-action option if you know what you are doing and want to suppress this warning.\u001b[0m\u001b[33m\n",
      "\u001b[0m\n"
     ]
    },
    {
     "name": "stdout",
     "output_type": "stream",
     "text": [
      "✏️  Setting installed package as editable\n"
     ]
    },
    {
     "name": "stderr",
     "output_type": "stream",
     "text": [
      "🛠 Installed sparse_module-0.1.0\n"
     ]
    }
   ],
   "source": [
    "%%bash\n",
    "maturin develop"
   ]
  },
  {
   "cell_type": "code",
   "execution_count": 25,
   "metadata": {},
   "outputs": [
    {
     "name": "stdout",
     "output_type": "stream",
     "text": [
      "Matrix A (CSR format):\n",
      "[[0.         0.         0.88676064]\n",
      " [0.         0.         0.        ]\n",
      " [0.05808361 0.60111501 0.70807258]]\n",
      "Matrix B (CSR format):\n",
      "[[0.        0.        0.       ]\n",
      " [0.        1.4443482 0.       ]]\n",
      "Calling Rust function with the following parameters:\n",
      "Matrix A data: [0.88676064 0.05808361 0.60111501 0.70807258]\n",
      "Matrix A indices: [2 0 1 2]\n",
      "Matrix A indptr: [0 1 1 4]\n",
      "Matrix B data: [1.4443482]\n",
      "Matrix B indices: [1]\n",
      "Matrix B indptr: [0 0 1]\n"
     ]
    },
    {
     "ename": "ValueError",
     "evalue": "index pointer size 3 should be 4",
     "output_type": "error",
     "traceback": [
      "\u001b[0;31m---------------------------------------------------------------------------\u001b[0m",
      "\u001b[0;31mValueError\u001b[0m                                Traceback (most recent call last)",
      "Cell \u001b[0;32mIn[25], line 51\u001b[0m\n\u001b[1;32m     48\u001b[0m     \u001b[38;5;28;01mreturn\u001b[39;00m csr_matrix((data_a, indices_a, indptr_a), shape\u001b[38;5;241m=\u001b[39m(\u001b[38;5;241m3\u001b[39m, \u001b[38;5;241m3\u001b[39m))\u001b[38;5;241m.\u001b[39mdot(csr_matrix((data_b, indices_b, indptr_b), shape\u001b[38;5;241m=\u001b[39m(\u001b[38;5;241m3\u001b[39m, \u001b[38;5;241m2\u001b[39m)))\n\u001b[1;32m     50\u001b[0m \u001b[38;5;66;03m# 调用矩阵乘法\u001b[39;00m\n\u001b[0;32m---> 51\u001b[0m result \u001b[38;5;241m=\u001b[39m \u001b[43mmultiply_csr_matrices\u001b[49m\u001b[43m(\u001b[49m\u001b[43mdata_a\u001b[49m\u001b[43m,\u001b[49m\u001b[43m \u001b[49m\u001b[43mindices_a\u001b[49m\u001b[43m,\u001b[49m\u001b[43m \u001b[49m\u001b[43mindptr_a\u001b[49m\u001b[43m,\u001b[49m\u001b[43m \u001b[49m\u001b[43mdata_b\u001b[49m\u001b[43m,\u001b[49m\u001b[43m \u001b[49m\u001b[43mindices_b\u001b[49m\u001b[43m,\u001b[49m\u001b[43m \u001b[49m\u001b[43mindptr_b\u001b[49m\u001b[43m)\u001b[49m\n\u001b[1;32m     53\u001b[0m \u001b[38;5;66;03m# 打印乘法结果\u001b[39;00m\n\u001b[1;32m     54\u001b[0m \u001b[38;5;28mprint\u001b[39m(\u001b[38;5;124m\"\u001b[39m\u001b[38;5;124mResult of A * B:\u001b[39m\u001b[38;5;124m\"\u001b[39m)\n",
      "Cell \u001b[0;32mIn[25], line 48\u001b[0m, in \u001b[0;36mmultiply_csr_matrices\u001b[0;34m(data_a, indices_a, indptr_a, data_b, indices_b, indptr_b)\u001b[0m\n\u001b[1;32m     45\u001b[0m \u001b[38;5;28mprint\u001b[39m(\u001b[38;5;124m\"\u001b[39m\u001b[38;5;124mMatrix B indptr:\u001b[39m\u001b[38;5;124m\"\u001b[39m, indptr_b)\n\u001b[1;32m     47\u001b[0m \u001b[38;5;66;03m# 假设我们生成一个简单的结果（实际应由 Rust 返回）\u001b[39;00m\n\u001b[0;32m---> 48\u001b[0m \u001b[38;5;28;01mreturn\u001b[39;00m csr_matrix((data_a, indices_a, indptr_a), shape\u001b[38;5;241m=\u001b[39m(\u001b[38;5;241m3\u001b[39m, \u001b[38;5;241m3\u001b[39m))\u001b[38;5;241m.\u001b[39mdot(\u001b[43mcsr_matrix\u001b[49m\u001b[43m(\u001b[49m\u001b[43m(\u001b[49m\u001b[43mdata_b\u001b[49m\u001b[43m,\u001b[49m\u001b[43m \u001b[49m\u001b[43mindices_b\u001b[49m\u001b[43m,\u001b[49m\u001b[43m \u001b[49m\u001b[43mindptr_b\u001b[49m\u001b[43m)\u001b[49m\u001b[43m,\u001b[49m\u001b[43m \u001b[49m\u001b[43mshape\u001b[49m\u001b[38;5;241;43m=\u001b[39;49m\u001b[43m(\u001b[49m\u001b[38;5;241;43m3\u001b[39;49m\u001b[43m,\u001b[49m\u001b[43m \u001b[49m\u001b[38;5;241;43m2\u001b[39;49m\u001b[43m)\u001b[49m\u001b[43m)\u001b[49m)\n",
      "File \u001b[0;32m/opt/miniconda/envs/r42/lib/python3.12/site-packages/scipy/sparse/_compressed.py:112\u001b[0m, in \u001b[0;36m_cs_matrix.__init__\u001b[0;34m(self, arg1, shape, dtype, copy)\u001b[0m\n\u001b[1;32m    109\u001b[0m \u001b[38;5;28;01mif\u001b[39;00m dtype \u001b[38;5;129;01mis\u001b[39;00m \u001b[38;5;129;01mnot\u001b[39;00m \u001b[38;5;28;01mNone\u001b[39;00m:\n\u001b[1;32m    110\u001b[0m     \u001b[38;5;28mself\u001b[39m\u001b[38;5;241m.\u001b[39mdata \u001b[38;5;241m=\u001b[39m \u001b[38;5;28mself\u001b[39m\u001b[38;5;241m.\u001b[39mdata\u001b[38;5;241m.\u001b[39mastype(dtype, copy\u001b[38;5;241m=\u001b[39m\u001b[38;5;28;01mFalse\u001b[39;00m)\n\u001b[0;32m--> 112\u001b[0m \u001b[38;5;28;43mself\u001b[39;49m\u001b[38;5;241;43m.\u001b[39;49m\u001b[43mcheck_format\u001b[49m\u001b[43m(\u001b[49m\u001b[43mfull_check\u001b[49m\u001b[38;5;241;43m=\u001b[39;49m\u001b[38;5;28;43;01mFalse\u001b[39;49;00m\u001b[43m)\u001b[49m\n",
      "File \u001b[0;32m/opt/miniconda/envs/r42/lib/python3.12/site-packages/scipy/sparse/_compressed.py:164\u001b[0m, in \u001b[0;36m_cs_matrix.check_format\u001b[0;34m(self, full_check)\u001b[0m\n\u001b[1;32m    161\u001b[0m M, N \u001b[38;5;241m=\u001b[39m \u001b[38;5;28mself\u001b[39m\u001b[38;5;241m.\u001b[39m_swap(\u001b[38;5;28mself\u001b[39m\u001b[38;5;241m.\u001b[39m_shape_as_2d)\n\u001b[1;32m    163\u001b[0m \u001b[38;5;28;01mif\u001b[39;00m (\u001b[38;5;28mlen\u001b[39m(\u001b[38;5;28mself\u001b[39m\u001b[38;5;241m.\u001b[39mindptr) \u001b[38;5;241m!=\u001b[39m M \u001b[38;5;241m+\u001b[39m \u001b[38;5;241m1\u001b[39m):\n\u001b[0;32m--> 164\u001b[0m     \u001b[38;5;28;01mraise\u001b[39;00m \u001b[38;5;167;01mValueError\u001b[39;00m(\u001b[38;5;124mf\u001b[39m\u001b[38;5;124m\"\u001b[39m\u001b[38;5;124mindex pointer size \u001b[39m\u001b[38;5;132;01m{\u001b[39;00m\u001b[38;5;28mlen\u001b[39m(\u001b[38;5;28mself\u001b[39m\u001b[38;5;241m.\u001b[39mindptr)\u001b[38;5;132;01m}\u001b[39;00m\u001b[38;5;124m should be \u001b[39m\u001b[38;5;132;01m{\u001b[39;00mM\u001b[38;5;250m \u001b[39m\u001b[38;5;241m+\u001b[39m\u001b[38;5;250m \u001b[39m\u001b[38;5;241m1\u001b[39m\u001b[38;5;132;01m}\u001b[39;00m\u001b[38;5;124m\"\u001b[39m)\n\u001b[1;32m    165\u001b[0m \u001b[38;5;28;01mif\u001b[39;00m (\u001b[38;5;28mself\u001b[39m\u001b[38;5;241m.\u001b[39mindptr[\u001b[38;5;241m0\u001b[39m] \u001b[38;5;241m!=\u001b[39m \u001b[38;5;241m0\u001b[39m):\n\u001b[1;32m    166\u001b[0m     \u001b[38;5;28;01mraise\u001b[39;00m \u001b[38;5;167;01mValueError\u001b[39;00m(\u001b[38;5;124m\"\u001b[39m\u001b[38;5;124mindex pointer should start with 0\u001b[39m\u001b[38;5;124m\"\u001b[39m)\n",
      "\u001b[0;31mValueError\u001b[0m: index pointer size 3 should be 4"
     ]
    }
   ],
   "source": [
    "import numpy as np\n",
    "from scipy.sparse import csr_matrix\n",
    "\n",
    "# 随机设置种子，以确保可重复的结果\n",
    "np.random.seed(42)\n",
    "\n",
    "# 生成稀疏矩阵 A (3 x 3)\n",
    "row_a = np.random.randint(0, 3, size=5)  # 随机行索引\n",
    "col_a = np.random.randint(0, 3, size=5)  # 随机列索引\n",
    "data_a = np.random.rand(5)  # 随机非零值\n",
    "matrix_a = csr_matrix((data_a, (row_a, col_a)), shape=(3, 3))\n",
    "\n",
    "# 生成稀疏矩阵 B (3 x 2)\n",
    "row_b = np.random.randint(0, 2, size=4)  # 随机行索引\n",
    "col_b = np.random.randint(0, 2, size=4)  # 随机列索引\n",
    "data_b = np.random.rand(4)  # 随机非零值\n",
    "matrix_b = csr_matrix((data_b, (row_b, col_b)), shape=(2, 3))\n",
    "\n",
    "# 打印生成的稀疏矩阵\n",
    "print(\"Matrix A (CSR format):\")\n",
    "print(matrix_a.toarray())  # 转换为密集格式以查看\n",
    "print(\"Matrix B (CSR format):\")\n",
    "print(matrix_b.toarray())\n",
    "\n",
    "# 提取 CSR 矩阵的参数\n",
    "data_a = matrix_a.data\n",
    "indices_a = matrix_a.indices\n",
    "indptr_a = matrix_a.indptr\n",
    "\n",
    "data_b = matrix_b.data\n",
    "indices_b = matrix_b.indices\n",
    "indptr_b = matrix_b.indptr\n",
    "\n",
    "# 假设你已经实现了 Rust 的 multiply_csr_matrices 函数\n",
    "# 这里我们将准备传递给 Rust 的参数\n",
    "def multiply_csr_matrices(data_a, indices_a, indptr_a, data_b, indices_b, indptr_b):\n",
    "    # 这里用伪代码表示 Rust 调用\n",
    "    # 请将以下语句替换为实际的 Rust 调用\n",
    "    print(\"Calling Rust function with the following parameters:\")\n",
    "    print(\"Matrix A data:\", data_a)\n",
    "    print(\"Matrix A indices:\", indices_a)\n",
    "    print(\"Matrix A indptr:\", indptr_a)\n",
    "    print(\"Matrix B data:\", data_b)\n",
    "    print(\"Matrix B indices:\", indices_b)\n",
    "    print(\"Matrix B indptr:\", indptr_b)\n",
    "    \n",
    "    # 假设我们生成一个简单的结果（实际应由 Rust 返回）\n",
    "    return csr_matrix((data_a, indices_a, indptr_a), shape=(3, 3)).dot(csr_matrix((data_b, indices_b, indptr_b), shape=(3, 2)))\n",
    "\n",
    "# 调用矩阵乘法\n",
    "result = multiply_csr_matrices(data_a, indices_a, indptr_a, data_b, indices_b, indptr_b)\n",
    "\n",
    "# 打印乘法结果\n",
    "print(\"Result of A * B:\")\n",
    "print(result.toarray())  # 转换为密集格式以查看\n"
   ]
  }
 ],
 "metadata": {
  "kernelspec": {
   "display_name": "r42",
   "language": "python",
   "name": "python3"
  },
  "language_info": {
   "codemirror_mode": {
    "name": "ipython",
    "version": 3
   },
   "file_extension": ".py",
   "mimetype": "text/x-python",
   "name": "python",
   "nbconvert_exporter": "python",
   "pygments_lexer": "ipython3",
   "version": "3.12.3"
  }
 },
 "nbformat": 4,
 "nbformat_minor": 2
}
