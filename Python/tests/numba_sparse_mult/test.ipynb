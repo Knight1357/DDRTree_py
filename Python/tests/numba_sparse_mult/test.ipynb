{
 "cells": [
  {
   "cell_type": "markdown",
   "metadata": {},
   "source": [
    "# test1 : numba sparce mult"
   ]
  },
  {
   "cell_type": "code",
   "execution_count": 1,
   "metadata": {},
   "outputs": [
    {
     "ename": "",
     "evalue": "",
     "output_type": "error",
     "traceback": [
      "\u001b[1;31mThe Kernel crashed while executing code in the current cell or a previous cell. \n",
      "\u001b[1;31mPlease review the code in the cell(s) to identify a possible cause of the failure. \n",
      "\u001b[1;31mClick <a href='https://aka.ms/vscodeJupyterKernelCrash'>here</a> for more info. \n",
      "\u001b[1;31mView Jupyter <a href='command:jupyter.viewOutput'>log</a> for further details."
     ]
    }
   ],
   "source": [
    "import numpy as np\n",
    "from scipy.sparse import random, csr_matrix\n",
    "import numba_sparce_mult\n",
    "\n",
    "\n",
    "def test_csr_matrix_multiply():\n",
    "    \"\"\"\n",
    "    Test the csr_matrix_multiply function with random sparse matrices.\n",
    "    \"\"\"\n",
    "    # Generate two random sparse matrices\n",
    "    np.random.seed(42)  # For reproducibility\n",
    "    rows_a, cols_a = 100, 200  # Shape of matrix A\n",
    "    rows_b, cols_b = 200, 150  # Shape of matrix B\n",
    "\n",
    "    density_a = 0.05  # Sparsity level of matrix A\n",
    "    density_b = 0.05  # Sparsity level of matrix B\n",
    "\n",
    "    # Generate random sparse matrices in CSR format\n",
    "    matrix_a = random(rows_a, cols_a, density=density_a, format='csr', dtype=np.float32, random_state=42)\n",
    "    matrix_b = random(rows_b, cols_b, density=density_b, format='csr', dtype=np.float32, random_state=42)\n",
    "\n",
    "    # Perform CSR matrix multiplication\n",
    "    result = numba_sparce_mult.csr_matrix_multiply(matrix_a, matrix_b, threads=4)\n",
    "\n",
    "    # Print results\n",
    "    print(\"Matrix A shape:\", matrix_a.shape)\n",
    "    print(\"Matrix B shape:\", matrix_b.shape)\n",
    "    print(\"Result shape:\", result.shape)\n",
    "    print(\"Result (dense format):\\n\", result.toarray())\n",
    "\n",
    "    return result\n",
    "\n",
    "# Example usage\n",
    "if __name__ == \"__main__\":\n",
    "    result = test_csr_matrix_multiply()\n"
   ]
  }
 ],
 "metadata": {
  "kernelspec": {
   "display_name": "r42",
   "language": "python",
   "name": "python3"
  },
  "language_info": {
   "codemirror_mode": {
    "name": "ipython",
    "version": 3
   },
   "file_extension": ".py",
   "mimetype": "text/x-python",
   "name": "python",
   "nbconvert_exporter": "python",
   "pygments_lexer": "ipython3",
   "version": "3.12.3"
  }
 },
 "nbformat": 4,
 "nbformat_minor": 2
}
