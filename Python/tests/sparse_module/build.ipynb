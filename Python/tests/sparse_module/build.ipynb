{
 "cells": [
  {
   "cell_type": "markdown",
   "metadata": {},
   "source": [
    "# 构建 Rust 包"
   ]
  },
  {
   "cell_type": "code",
   "execution_count": 3,
   "metadata": {
    "vscode": {
     "languageId": "shellscript"
    }
   },
   "outputs": [
    {
     "name": "stdout",
     "output_type": "stream",
     "text": [
      "/mnt/ssd/geneplus/develop/liushen/DDRTree/Python/tests/sparse_module\n"
     ]
    },
    {
     "name": "stderr",
     "output_type": "stream",
     "text": [
      "\u001b[1m\u001b[32m   Compiling\u001b[0m pyo3-build-config v0.18.3\n",
      "\u001b[1m\u001b[32m   Compiling\u001b[0m pyo3-ffi v0.18.3\n",
      "\u001b[1m\u001b[32m   Compiling\u001b[0m pyo3 v0.18.3\n",
      "\u001b[1m\u001b[32m   Compiling\u001b[0m sparse_module v0.1.0 (/mnt/ssd/geneplus/develop/liushen/DDRTree/Python/tests/sparse_module)\n",
      "\u001b[1m\u001b[32m    Finished\u001b[0m dev [unoptimized + debuginfo] target(s) in 5.03s\n"
     ]
    }
   ],
   "source": [
    "%%bash\n",
    "\n",
    "pwd\n",
    "\n",
    "cargo build"
   ]
  },
  {
   "cell_type": "code",
   "execution_count": 3,
   "metadata": {
    "vscode": {
     "languageId": "shellscript"
    }
   },
   "outputs": [
    {
     "name": "stderr",
     "output_type": "stream",
     "text": [
      "🔗 Found pyo3 bindings\n",
      "🐍 Found CPython 3.12 at /opt/miniconda/envs/r42/bin/python\n",
      "\u001b[1m\u001b[32m   Compiling\u001b[0m sparse_module v0.1.0 (/mnt/ssd/geneplus/develop/liushen/DDRTree/Python/tests/sparse_module)\n",
      "\u001b[1m\u001b[32m    Finished\u001b[0m dev [unoptimized + debuginfo] target(s) in 1.14s\n",
      "📦 Built wheel for CPython 3.12 to /tmp/.tmpZo5qC3/sparse_module-0.1.0-cp312-cp312-linux_x86_64.whl\n",
      "⚠️ Warning: pip raised a warning running [\"-m\", \"pip\", \"--disable-pip-version-check\", \"install\", \"--no-deps\", \"--force-reinstall\", \"/tmp/.tmpZo5qC3/sparse_module-0.1.0-cp312-cp312-linux_x86_64.whl\"]:\n",
      "\u001b[33mDEPRECATION: Loading egg at /opt/miniconda/envs/r42/lib/python3.12/site-packages/example-0.1-py3.12-linux-x86_64.egg is deprecated. pip 25.1 will enforce this behaviour change. A possible replacement is to use pip for package installation. Discussion can be found at https://github.com/pypa/pip/issues/12330\u001b[0m\u001b[33m\n",
      "\u001b[0m\u001b[33mWARNING: Running pip as the 'root' user can result in broken permissions and conflicting behaviour with the system package manager, possibly rendering your system unusable.It is recommended to use a virtual environment instead: https://pip.pypa.io/warnings/venv. Use the --root-user-action option if you know what you are doing and want to suppress this warning.\u001b[0m\u001b[33m\n",
      "\u001b[0m\n"
     ]
    },
    {
     "name": "stdout",
     "output_type": "stream",
     "text": [
      "✏️  Setting installed package as editable\n"
     ]
    },
    {
     "name": "stderr",
     "output_type": "stream",
     "text": [
      "🛠 Installed sparse_module-0.1.0\n"
     ]
    }
   ],
   "source": [
    "%%bash\n",
    "maturin develop"
   ]
  },
  {
   "cell_type": "code",
   "execution_count": 2,
   "metadata": {},
   "outputs": [
    {
     "name": "stdout",
     "output_type": "stream",
     "text": [
      "Matrix A (CSR format):\n",
      "[[0.         0.         0.88676064]\n",
      " [0.         0.         0.        ]\n",
      " [0.05808361 0.60111501 0.70807258]]\n",
      "Matrix B (CSR format):\n",
      "[[0.         0.        ]\n",
      " [0.72317416 0.82899867]\n",
      " [0.         0.        ]]\n",
      "Calling Rust function with the following parameters:\n",
      "Matrix A data: [0.88676064 0.05808361 0.60111501 0.70807258]\n",
      "Matrix A indices: [2 0 1 2]\n",
      "Matrix A indptr: [0 1 1 4]\n",
      "Matrix B data: [0.72317416 0.82899867]\n",
      "Matrix B indices: [0 1]\n",
      "Matrix B indptr: [0 0 2 2]\n",
      "Result of A * B:\n",
      "[[0.         0.        ]\n",
      " [0.         0.        ]\n",
      " [0.43471084 0.49832355]]\n"
     ]
    }
   ],
   "source": [
    "import numpy as np\n",
    "from scipy.sparse import csr_matrix\n",
    "\n",
    "# Set a random seed for reproducibility\n",
    "np.random.seed(42)\n",
    "\n",
    "# Generate sparse matrix A (3 x 3)\n",
    "row_a = np.random.randint(0, 3, size=5)  # Random row indices\n",
    "col_a = np.random.randint(0, 3, size=5)  # Random column indices\n",
    "data_a = np.random.rand(5)  # Random non-zero values\n",
    "matrix_a = csr_matrix((data_a, (row_a, col_a)), shape=(3, 3))\n",
    "\n",
    "# Generate sparse matrix B (3 x 2) - Fixed shape\n",
    "row_b = np.random.randint(0, 3, size=4)  # Random row indices\n",
    "col_b = np.random.randint(0, 2, size=4)  # Random column indices\n",
    "data_b = np.random.rand(4)  # Random non-zero values\n",
    "matrix_b = csr_matrix((data_b, (row_b, col_b)), shape=(3, 2))\n",
    "\n",
    "# Print the generated sparse matrices\n",
    "print(\"Matrix A (CSR format):\")\n",
    "print(matrix_a.toarray())  # Convert to dense format for viewing\n",
    "print(\"Matrix B (CSR format):\")\n",
    "print(matrix_b.toarray())\n",
    "\n",
    "# Extract CSR matrix parameters\n",
    "data_a = matrix_a.data\n",
    "indices_a = matrix_a.indices\n",
    "indptr_a = matrix_a.indptr\n",
    "\n",
    "data_b = matrix_b.data\n",
    "indices_b = matrix_b.indices\n",
    "indptr_b = matrix_b.indptr\n",
    "\n",
    "# Placeholder for calling the Rust multiply_csr_matrices function\n",
    "def multiply_csr_matrices(data_a, indices_a, indptr_a, data_b, indices_b, indptr_b):\n",
    "    # Print the parameters passed to the Rust function\n",
    "    print(\"Calling Rust function with the following parameters:\")\n",
    "    print(\"Matrix A data:\", data_a)\n",
    "    print(\"Matrix A indices:\", indices_a)\n",
    "    print(\"Matrix A indptr:\", indptr_a)\n",
    "    print(\"Matrix B data:\", data_b)\n",
    "    print(\"Matrix B indices:\", indices_b)\n",
    "    print(\"Matrix B indptr:\", indptr_b)\n",
    "    \n",
    "    # Simulated result using SciPy (replace with Rust function call)\n",
    "    mat_a = csr_matrix((data_a, indices_a, indptr_a), shape=(3, 3))\n",
    "    mat_b = csr_matrix((data_b, indices_b, indptr_b), shape=(3, 2))\n",
    "    return mat_a.dot(mat_b)\n",
    "\n",
    "# Call the matrix multiplication\n",
    "result = multiply_csr_matrices(data_a, indices_a, indptr_a, data_b, indices_b, indptr_b)\n",
    "\n",
    "# Print the multiplication result\n",
    "print(\"Result of A * B:\")\n",
    "print(result.toarray())  # Convert to dense format for viewing\n"
   ]
  },
  {
   "cell_type": "code",
   "execution_count": 3,
   "metadata": {},
   "outputs": [
    {
     "name": "stdout",
     "output_type": "stream",
     "text": [
      "Matrix A shape: (11, 8)\n",
      "Matrix B shape: (8, 17)\n",
      "Matrix A: Data length: 1, Indices length: 1, Indptr length: 12\n",
      "Shape A: (11, 8)\n"
     ]
    },
    {
     "name": "stderr",
     "output_type": "stream",
     "text": [
      "thread '<unnamed>' panicked at /root/.cargo/registry/src/index.crates.io-6f17d22bba15001f/sprs-0.8.1/src/sparse/csmat.rs:519:59:\n",
      "called `Result::unwrap()` on an `Err` value: IllegalArguments(\"Indptr length does not match dimension\")\n",
      "note: run with `RUST_BACKTRACE=1` environment variable to display a backtrace\n"
     ]
    },
    {
     "ename": "PanicException",
     "evalue": "called `Result::unwrap()` on an `Err` value: IllegalArguments(\"Indptr length does not match dimension\")",
     "output_type": "error",
     "traceback": [
      "\u001b[0;31m---------------------------------------------------------------------------\u001b[0m",
      "\u001b[0;31mPanicException\u001b[0m                            Traceback (most recent call last)",
      "Cell \u001b[0;32mIn[3], line 49\u001b[0m\n\u001b[1;32m     45\u001b[0m         \u001b[38;5;28mprint\u001b[39m(diff)\n\u001b[1;32m     47\u001b[0m \u001b[38;5;28;01mif\u001b[39;00m \u001b[38;5;18m__name__\u001b[39m \u001b[38;5;241m==\u001b[39m \u001b[38;5;124m\"\u001b[39m\u001b[38;5;124m__main__\u001b[39m\u001b[38;5;124m\"\u001b[39m:\n\u001b[1;32m     48\u001b[0m     \u001b[38;5;66;03m# Run the test case\u001b[39;00m\n\u001b[0;32m---> 49\u001b[0m     \u001b[43mtest_csr_matrix_multiply_with_random_matrices\u001b[49m\u001b[43m(\u001b[49m\u001b[43m)\u001b[49m\n",
      "Cell \u001b[0;32mIn[3], line 26\u001b[0m, in \u001b[0;36mtest_csr_matrix_multiply_with_random_matrices\u001b[0;34m()\u001b[0m\n\u001b[1;32m     23\u001b[0m \u001b[38;5;28mprint\u001b[39m(\u001b[38;5;124m\"\u001b[39m\u001b[38;5;124mMatrix B shape:\u001b[39m\u001b[38;5;124m\"\u001b[39m, matrix_b\u001b[38;5;241m.\u001b[39mshape)\n\u001b[1;32m     25\u001b[0m \u001b[38;5;66;03m# Call Rust function for CSR matrix multiplication\u001b[39;00m\n\u001b[0;32m---> 26\u001b[0m rust_result \u001b[38;5;241m=\u001b[39m \u001b[43mmultiply_csr_matrices\u001b[49m\u001b[43m(\u001b[49m\u001b[43mmatrix_a\u001b[49m\u001b[43m,\u001b[49m\u001b[43m \u001b[49m\u001b[43mmatrix_b\u001b[49m\u001b[43m)\u001b[49m\n\u001b[1;32m     28\u001b[0m \u001b[38;5;66;03m# Compute the expected result using SciPy's dot method\u001b[39;00m\n\u001b[1;32m     29\u001b[0m python_result \u001b[38;5;241m=\u001b[39m matrix_a\u001b[38;5;241m.\u001b[39mdot(matrix_b)\n",
      "\u001b[0;31mPanicException\u001b[0m: called `Result::unwrap()` on an `Err` value: IllegalArguments(\"Indptr length does not match dimension\")"
     ]
    }
   ],
   "source": [
    "import numpy as np\n",
    "from scipy.sparse import csr_matrix, random\n",
    "from sparse_module import multiply_csr_matrices\n",
    "\n",
    "def generate_random_sparse_matrix(rows, cols, density=0.01, format='csr'):\n",
    "    \"\"\"Generates a random sparse matrix with specified dimensions and density.\"\"\"\n",
    "    return random(rows, cols, density=density, format=format, dtype=np.float64)\n",
    "\n",
    "def test_csr_matrix_multiply_with_random_matrices():\n",
    "    np.random.seed(42)  # Set a seed for reproducibility\n",
    "\n",
    "    # Define dimensions for matrices A and B\n",
    "    rows_a = np.random.randint(5, 20)  # Random number of rows for matrix A\n",
    "    cols_a_rows_b = np.random.randint(5, 20)  # Shared dimension for A (columns) and B (rows)\n",
    "    cols_b = np.random.randint(5, 20)  # Random number of columns for matrix B\n",
    "\n",
    "    # Generate random sparse matrices A and B\n",
    "    matrix_a = generate_random_sparse_matrix(rows_a, cols_a_rows_b)\n",
    "    matrix_b = generate_random_sparse_matrix(cols_a_rows_b, cols_b)\n",
    "\n",
    "    # Print matrix shapes\n",
    "    print(\"Matrix A shape:\", matrix_a.shape)\n",
    "    print(\"Matrix B shape:\", matrix_b.shape)\n",
    "\n",
    "    # Call Rust function for CSR matrix multiplication\n",
    "    rust_result = multiply_csr_matrices(matrix_a, matrix_b)\n",
    "\n",
    "    # Compute the expected result using SciPy's dot method\n",
    "    python_result = matrix_a.dot(matrix_b)\n",
    "\n",
    "    # Convert Rust's result back to a CSR matrix for comparison\n",
    "    rust_csr_result = csr_matrix(\n",
    "        (rust_result['data'], rust_result['indices'], rust_result['indptr']),\n",
    "        shape=rust_result['shape']\n",
    "    )\n",
    "\n",
    "    # Compare the results\n",
    "    if np.allclose(rust_csr_result.toarray(), python_result.toarray(), atol=1e-8):\n",
    "        print(\"Test passed: The multiplication results are equal.\")\n",
    "    else:\n",
    "        print(\"Test failed: The multiplication results differ.\")\n",
    "        # Provide additional details\n",
    "        diff = rust_csr_result - python_result\n",
    "        print(\"Difference matrix (non-zero elements):\", diff.nnz)\n",
    "        print(diff)\n",
    "\n",
    "if __name__ == \"__main__\":\n",
    "    # Run the test case\n",
    "    test_csr_matrix_multiply_with_random_matrices()\n"
   ]
  },
  {
   "cell_type": "code",
   "execution_count": 5,
   "metadata": {},
   "outputs": [
    {
     "ename": "ValueError",
     "evalue": "index pointer size 5 should be 4",
     "output_type": "error",
     "traceback": [
      "\u001b[0;31m---------------------------------------------------------------------------\u001b[0m",
      "\u001b[0;31mValueError\u001b[0m                                Traceback (most recent call last)",
      "Cell \u001b[0;32mIn[5], line 19\u001b[0m\n\u001b[1;32m     16\u001b[0m shape_b \u001b[38;5;241m=\u001b[39m (\u001b[38;5;241m4\u001b[39m, \u001b[38;5;241m3\u001b[39m)\n\u001b[1;32m     18\u001b[0m \u001b[38;5;66;03m# 创建稀疏矩阵\u001b[39;00m\n\u001b[0;32m---> 19\u001b[0m csr_matrix_a \u001b[38;5;241m=\u001b[39m \u001b[43msp\u001b[49m\u001b[38;5;241;43m.\u001b[39;49m\u001b[43mcsr_matrix\u001b[49m\u001b[43m(\u001b[49m\u001b[43m(\u001b[49m\u001b[43mdata_a\u001b[49m\u001b[43m,\u001b[49m\u001b[43m \u001b[49m\u001b[43mindices_a\u001b[49m\u001b[43m,\u001b[49m\u001b[43m \u001b[49m\u001b[43mindptr_a\u001b[49m\u001b[43m)\u001b[49m\u001b[43m,\u001b[49m\u001b[43m \u001b[49m\u001b[43mshape\u001b[49m\u001b[38;5;241;43m=\u001b[39;49m\u001b[43mshape_a\u001b[49m\u001b[43m)\u001b[49m\n\u001b[1;32m     20\u001b[0m csr_matrix_b \u001b[38;5;241m=\u001b[39m sp\u001b[38;5;241m.\u001b[39mcsr_matrix((data_b, indices_b, indptr_b), shape\u001b[38;5;241m=\u001b[39mshape_b)\n\u001b[1;32m     22\u001b[0m \u001b[38;5;66;03m# 调用 Rust 中的稀疏矩阵乘法函数\u001b[39;00m\n",
      "File \u001b[0;32m/opt/miniconda/envs/r42/lib/python3.12/site-packages/scipy/sparse/_compressed.py:112\u001b[0m, in \u001b[0;36m_cs_matrix.__init__\u001b[0;34m(self, arg1, shape, dtype, copy)\u001b[0m\n\u001b[1;32m    109\u001b[0m \u001b[38;5;28;01mif\u001b[39;00m dtype \u001b[38;5;129;01mis\u001b[39;00m \u001b[38;5;129;01mnot\u001b[39;00m \u001b[38;5;28;01mNone\u001b[39;00m:\n\u001b[1;32m    110\u001b[0m     \u001b[38;5;28mself\u001b[39m\u001b[38;5;241m.\u001b[39mdata \u001b[38;5;241m=\u001b[39m \u001b[38;5;28mself\u001b[39m\u001b[38;5;241m.\u001b[39mdata\u001b[38;5;241m.\u001b[39mastype(dtype, copy\u001b[38;5;241m=\u001b[39m\u001b[38;5;28;01mFalse\u001b[39;00m)\n\u001b[0;32m--> 112\u001b[0m \u001b[38;5;28;43mself\u001b[39;49m\u001b[38;5;241;43m.\u001b[39;49m\u001b[43mcheck_format\u001b[49m\u001b[43m(\u001b[49m\u001b[43mfull_check\u001b[49m\u001b[38;5;241;43m=\u001b[39;49m\u001b[38;5;28;43;01mFalse\u001b[39;49;00m\u001b[43m)\u001b[49m\n",
      "File \u001b[0;32m/opt/miniconda/envs/r42/lib/python3.12/site-packages/scipy/sparse/_compressed.py:164\u001b[0m, in \u001b[0;36m_cs_matrix.check_format\u001b[0;34m(self, full_check)\u001b[0m\n\u001b[1;32m    161\u001b[0m M, N \u001b[38;5;241m=\u001b[39m \u001b[38;5;28mself\u001b[39m\u001b[38;5;241m.\u001b[39m_swap(\u001b[38;5;28mself\u001b[39m\u001b[38;5;241m.\u001b[39m_shape_as_2d)\n\u001b[1;32m    163\u001b[0m \u001b[38;5;28;01mif\u001b[39;00m (\u001b[38;5;28mlen\u001b[39m(\u001b[38;5;28mself\u001b[39m\u001b[38;5;241m.\u001b[39mindptr) \u001b[38;5;241m!=\u001b[39m M \u001b[38;5;241m+\u001b[39m \u001b[38;5;241m1\u001b[39m):\n\u001b[0;32m--> 164\u001b[0m     \u001b[38;5;28;01mraise\u001b[39;00m \u001b[38;5;167;01mValueError\u001b[39;00m(\u001b[38;5;124mf\u001b[39m\u001b[38;5;124m\"\u001b[39m\u001b[38;5;124mindex pointer size \u001b[39m\u001b[38;5;132;01m{\u001b[39;00m\u001b[38;5;28mlen\u001b[39m(\u001b[38;5;28mself\u001b[39m\u001b[38;5;241m.\u001b[39mindptr)\u001b[38;5;132;01m}\u001b[39;00m\u001b[38;5;124m should be \u001b[39m\u001b[38;5;132;01m{\u001b[39;00mM\u001b[38;5;250m \u001b[39m\u001b[38;5;241m+\u001b[39m\u001b[38;5;250m \u001b[39m\u001b[38;5;241m1\u001b[39m\u001b[38;5;132;01m}\u001b[39;00m\u001b[38;5;124m\"\u001b[39m)\n\u001b[1;32m    165\u001b[0m \u001b[38;5;28;01mif\u001b[39;00m (\u001b[38;5;28mself\u001b[39m\u001b[38;5;241m.\u001b[39mindptr[\u001b[38;5;241m0\u001b[39m] \u001b[38;5;241m!=\u001b[39m \u001b[38;5;241m0\u001b[39m):\n\u001b[1;32m    166\u001b[0m     \u001b[38;5;28;01mraise\u001b[39;00m \u001b[38;5;167;01mValueError\u001b[39;00m(\u001b[38;5;124m\"\u001b[39m\u001b[38;5;124mindex pointer should start with 0\u001b[39m\u001b[38;5;124m\"\u001b[39m)\n",
      "\u001b[0;31mValueError\u001b[0m: index pointer size 5 should be 4"
     ]
    }
   ],
   "source": [
    "import sparse_module  # 导入生成的 Rust 扩展模块\n",
    "import scipy.sparse as sp\n",
    "import numpy as np\n",
    "\n",
    "\n",
    "# 矩阵 A (3x4)\n",
    "data_a = np.array([1.0, 2.0, 3.0])  # 非零元素\n",
    "indices_a = np.array([1, 2, 3])  # 非零元素的列索引\n",
    "indptr_a = np.array([0, 1, 2, 3, 3])  # 行的指针，长度应该是 行数 + 1\n",
    "shape_a = (3, 4)\n",
    "\n",
    "# 矩阵 B (4x3)\n",
    "data_b = np.array([4.0, 5.0, 6.0])  # 非零元素\n",
    "indices_b = np.array([1, 2, 0])  # 非零元素的列索引\n",
    "indptr_b = np.array([0, 1, 2, 3, 3])  # 行的指针，长度应该是 行数 + 1\n",
    "shape_b = (4, 3)\n",
    "\n",
    "# 创建稀疏矩阵\n",
    "csr_matrix_a = sp.csr_matrix((data_a, indices_a, indptr_a), shape=shape_a)\n",
    "csr_matrix_b = sp.csr_matrix((data_b, indices_b, indptr_b), shape=shape_b)\n",
    "\n",
    "# 调用 Rust 中的稀疏矩阵乘法函数\n",
    "result = sparse_module.multiply_csr_matrices(csr_matrix_a, csr_matrix_b)\n",
    "\n",
    "# 输出结果\n",
    "print(\"Multiplication Result:\")\n",
    "print(f\"Data: {result['data']}\")\n",
    "print(f\"Indices: {result['indices']}\")\n",
    "print(f\"Indptr: {result['indptr']}\")\n",
    "print(f\"Shape: {result['shape']}\")"
   ]
  }
 ],
 "metadata": {
  "kernelspec": {
   "display_name": "r42",
   "language": "python",
   "name": "python3"
  },
  "language_info": {
   "codemirror_mode": {
    "name": "ipython",
    "version": 3
   },
   "file_extension": ".py",
   "mimetype": "text/x-python",
   "name": "python",
   "nbconvert_exporter": "python",
   "pygments_lexer": "ipython3",
   "version": "3.12.3"
  }
 },
 "nbformat": 4,
 "nbformat_minor": 2
}
