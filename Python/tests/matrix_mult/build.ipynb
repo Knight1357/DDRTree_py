{
 "cells": [
  {
   "cell_type": "markdown",
   "metadata": {},
   "source": [
    "# 构建 Rust 包"
   ]
  },
  {
   "cell_type": "code",
   "execution_count": 6,
   "metadata": {
    "vscode": {
     "languageId": "shellscript"
    }
   },
   "outputs": [
    {
     "name": "stdout",
     "output_type": "stream",
     "text": [
      "/mnt/ssd/geneplus/develop/liushen/DDRTree/Python/tests/matrix_mult\n"
     ]
    },
    {
     "name": "stderr",
     "output_type": "stream",
     "text": [
      "\u001b[1m\u001b[32m   Compiling\u001b[0m matrix_mult v0.1.0 (/mnt/ssd/geneplus/develop/liushen/DDRTree/Python/tests/matrix_mult)\n",
      "\u001b[0m\u001b[1m\u001b[38;5;9merror[E0277]\u001b[0m\u001b[0m\u001b[1m: the trait bound `pyo3::Python<'_>: IntoPy<pyo3::Py<PyString>>` is not satisfied\u001b[0m\n",
      "\u001b[0m   \u001b[0m\u001b[0m\u001b[1m\u001b[38;5;12m--> \u001b[0m\u001b[0msrc/lib.rs:14:43\u001b[0m\n",
      "\u001b[0m    \u001b[0m\u001b[0m\u001b[1m\u001b[38;5;12m|\u001b[0m\n",
      "\u001b[0m\u001b[1m\u001b[38;5;12m14\u001b[0m\u001b[0m  \u001b[0m\u001b[0m\u001b[1m\u001b[38;5;12m|\u001b[0m\u001b[0m \u001b[0m\u001b[0m        let shape: &PyAny = dense.getattr(py, PyString::new(py, \"shape\"))?;\u001b[0m\n",
      "\u001b[0m    \u001b[0m\u001b[0m\u001b[1m\u001b[38;5;12m| \u001b[0m\u001b[0m                                  \u001b[0m\u001b[0m\u001b[1m\u001b[38;5;12m-------\u001b[0m\u001b[0m \u001b[0m\u001b[0m\u001b[1m\u001b[38;5;9m^^\u001b[0m\u001b[0m \u001b[0m\u001b[0m\u001b[1m\u001b[38;5;9mthe trait `IntoPy<pyo3::Py<PyString>>` is not implemented for `pyo3::Python<'_>`\u001b[0m\n",
      "\u001b[0m    \u001b[0m\u001b[0m\u001b[1m\u001b[38;5;12m| \u001b[0m\u001b[0m                                  \u001b[0m\u001b[0m\u001b[1m\u001b[38;5;12m|\u001b[0m\n",
      "\u001b[0m    \u001b[0m\u001b[0m\u001b[1m\u001b[38;5;12m| \u001b[0m\u001b[0m                                  \u001b[0m\u001b[0m\u001b[1m\u001b[38;5;12mrequired by a bound introduced by this call\u001b[0m\n",
      "\u001b[0m    \u001b[0m\u001b[0m\u001b[1m\u001b[38;5;12m|\u001b[0m\n",
      "\u001b[0m    \u001b[0m\u001b[0m\u001b[1m\u001b[38;5;12m= \u001b[0m\u001b[0m\u001b[1mhelp\u001b[0m\u001b[0m: the following other types implement trait `IntoPy<T>`:\u001b[0m\n",
      "\u001b[0m              <bool as IntoPy<pyo3::Py<pyo3::PyAny>>>\u001b[0m\n",
      "\u001b[0m              <char as IntoPy<pyo3::Py<pyo3::PyAny>>>\u001b[0m\n",
      "\u001b[0m              <isize as IntoPy<pyo3::Py<pyo3::PyAny>>>\u001b[0m\n",
      "\u001b[0m              <i8 as IntoPy<pyo3::Py<pyo3::PyAny>>>\u001b[0m\n",
      "\u001b[0m              <i16 as IntoPy<pyo3::Py<pyo3::PyAny>>>\u001b[0m\n",
      "\u001b[0m              <i32 as IntoPy<pyo3::Py<pyo3::PyAny>>>\u001b[0m\n",
      "\u001b[0m              <i64 as IntoPy<pyo3::Py<pyo3::PyAny>>>\u001b[0m\n",
      "\u001b[0m              <i128 as IntoPy<pyo3::Py<pyo3::PyAny>>>\u001b[0m\n",
      "\u001b[0m            and 184 others\u001b[0m\n",
      "\u001b[0m\u001b[1m\u001b[38;5;10mnote\u001b[0m\u001b[0m: required by a bound in `pyo3::PyAny::getattr`\u001b[0m\n",
      "\u001b[0m   \u001b[0m\u001b[0m\u001b[1m\u001b[38;5;12m--> \u001b[0m\u001b[0m/root/.cargo/registry/src/index.crates.io-6f17d22bba15001f/pyo3-0.18.3/src/types/any.rs:116:12\u001b[0m\n",
      "\u001b[0m    \u001b[0m\u001b[0m\u001b[1m\u001b[38;5;12m|\u001b[0m\n",
      "\u001b[0m\u001b[1m\u001b[38;5;12m114\u001b[0m\u001b[0m \u001b[0m\u001b[0m\u001b[1m\u001b[38;5;12m|\u001b[0m\u001b[0m \u001b[0m\u001b[0m    pub fn getattr<N>(&self, attr_name: N) -> PyResult<&PyAny>\u001b[0m\n",
      "\u001b[0m    \u001b[0m\u001b[0m\u001b[1m\u001b[38;5;12m| \u001b[0m\u001b[0m           \u001b[0m\u001b[0m\u001b[1m\u001b[38;5;12m-------\u001b[0m\u001b[0m \u001b[0m\u001b[0m\u001b[1m\u001b[38;5;12mrequired by a bound in this associated function\u001b[0m\n",
      "\u001b[0m\u001b[1m\u001b[38;5;12m115\u001b[0m\u001b[0m \u001b[0m\u001b[0m\u001b[1m\u001b[38;5;12m|\u001b[0m\u001b[0m \u001b[0m\u001b[0m    where\u001b[0m\n",
      "\u001b[0m\u001b[1m\u001b[38;5;12m116\u001b[0m\u001b[0m \u001b[0m\u001b[0m\u001b[1m\u001b[38;5;12m|\u001b[0m\u001b[0m \u001b[0m\u001b[0m        N: IntoPy<Py<PyString>>,\u001b[0m\n",
      "\u001b[0m    \u001b[0m\u001b[0m\u001b[1m\u001b[38;5;12m| \u001b[0m\u001b[0m           \u001b[0m\u001b[0m\u001b[1m\u001b[38;5;10m^^^^^^^^^^^^^^^^^^^^\u001b[0m\u001b[0m \u001b[0m\u001b[0m\u001b[1m\u001b[38;5;10mrequired by this bound in `PyAny::getattr`\u001b[0m\n",
      "\n",
      "\u001b[0m\u001b[1m\u001b[38;5;9merror[E0061]\u001b[0m\u001b[0m\u001b[1m: this method takes 1 argument but 2 arguments were supplied\u001b[0m\n",
      "\u001b[0m   \u001b[0m\u001b[0m\u001b[1m\u001b[38;5;12m--> \u001b[0m\u001b[0msrc/lib.rs:14:35\u001b[0m\n",
      "\u001b[0m    \u001b[0m\u001b[0m\u001b[1m\u001b[38;5;12m|\u001b[0m\n",
      "\u001b[0m\u001b[1m\u001b[38;5;12m14\u001b[0m\u001b[0m  \u001b[0m\u001b[0m\u001b[1m\u001b[38;5;12m|\u001b[0m\u001b[0m \u001b[0m\u001b[0m        let shape: &PyAny = dense.getattr(py, PyString::new(py, \"shape\"))?;\u001b[0m\n",
      "\u001b[0m    \u001b[0m\u001b[0m\u001b[1m\u001b[38;5;12m| \u001b[0m\u001b[0m                                  \u001b[0m\u001b[0m\u001b[1m\u001b[38;5;9m^^^^^^^\u001b[0m\u001b[0m   \u001b[0m\u001b[0m\u001b[1m\u001b[38;5;12m----------------------------\u001b[0m\n",
      "\u001b[0m    \u001b[0m\u001b[0m\u001b[1m\u001b[38;5;12m| \u001b[0m\u001b[0m                                            \u001b[0m\u001b[0m\u001b[1m\u001b[38;5;12m|\u001b[0m\u001b[0m \u001b[0m\u001b[0m\u001b[1m\u001b[38;5;12m|\u001b[0m\n",
      "\u001b[0m    \u001b[0m\u001b[0m\u001b[1m\u001b[38;5;12m| \u001b[0m\u001b[0m                                            \u001b[0m\u001b[0m\u001b[1m\u001b[38;5;12m|\u001b[0m\u001b[0m \u001b[0m\u001b[0m\u001b[1m\u001b[38;5;12munexpected argument of type `&PyString`\u001b[0m\n",
      "\u001b[0m    \u001b[0m\u001b[0m\u001b[1m\u001b[38;5;12m| \u001b[0m\u001b[0m                                            \u001b[0m\u001b[0m\u001b[1m\u001b[38;5;12mhelp: remove the extra argument\u001b[0m\n",
      "\u001b[0m    \u001b[0m\u001b[0m\u001b[1m\u001b[38;5;12m|\u001b[0m\n",
      "\u001b[0m\u001b[1m\u001b[38;5;10mnote\u001b[0m\u001b[0m: method defined here\u001b[0m\n",
      "\u001b[0m   \u001b[0m\u001b[0m\u001b[1m\u001b[38;5;12m--> \u001b[0m\u001b[0m/root/.cargo/registry/src/index.crates.io-6f17d22bba15001f/pyo3-0.18.3/src/types/any.rs:114:12\u001b[0m\n",
      "\u001b[0m    \u001b[0m\u001b[0m\u001b[1m\u001b[38;5;12m|\u001b[0m\n",
      "\u001b[0m\u001b[1m\u001b[38;5;12m114\u001b[0m\u001b[0m \u001b[0m\u001b[0m\u001b[1m\u001b[38;5;12m|\u001b[0m\u001b[0m \u001b[0m\u001b[0m    pub fn getattr<N>(&self, attr_name: N) -> PyResult<&PyAny>\u001b[0m\n",
      "\u001b[0m    \u001b[0m\u001b[0m\u001b[1m\u001b[38;5;12m| \u001b[0m\u001b[0m           \u001b[0m\u001b[0m\u001b[1m\u001b[38;5;10m^^^^^^^\u001b[0m\n",
      "\n",
      "\u001b[0m\u001b[1m\u001b[38;5;9merror[E0369]\u001b[0m\u001b[0m\u001b[1m: cannot multiply `CsMatBase<f64, usize, Vec<usize>, Vec<usize>, Vec<f64>>` by `CsMatBase<f64, usize, Vec<usize>, Vec<usize>, Vec<f64>>`\u001b[0m\n",
      "\u001b[0m  \u001b[0m\u001b[0m\u001b[1m\u001b[38;5;12m--> \u001b[0m\u001b[0msrc/lib.rs:54:27\u001b[0m\n",
      "\u001b[0m   \u001b[0m\u001b[0m\u001b[1m\u001b[38;5;12m|\u001b[0m\n",
      "\u001b[0m\u001b[1m\u001b[38;5;12m54\u001b[0m\u001b[0m \u001b[0m\u001b[0m\u001b[1m\u001b[38;5;12m|\u001b[0m\u001b[0m \u001b[0m\u001b[0m        let csr_c = csr_a * csr_b;\u001b[0m\n",
      "\u001b[0m   \u001b[0m\u001b[0m\u001b[1m\u001b[38;5;12m| \u001b[0m\u001b[0m                    \u001b[0m\u001b[0m\u001b[1m\u001b[38;5;12m-----\u001b[0m\u001b[0m \u001b[0m\u001b[0m\u001b[1m\u001b[38;5;9m^\u001b[0m\u001b[0m \u001b[0m\u001b[0m\u001b[1m\u001b[38;5;12m-----\u001b[0m\u001b[0m \u001b[0m\u001b[0m\u001b[1m\u001b[38;5;12mCsMatBase<f64, usize, Vec<usize>, Vec<usize>, Vec<f64>>\u001b[0m\n",
      "\u001b[0m   \u001b[0m\u001b[0m\u001b[1m\u001b[38;5;12m| \u001b[0m\u001b[0m                    \u001b[0m\u001b[0m\u001b[1m\u001b[38;5;12m|\u001b[0m\n",
      "\u001b[0m   \u001b[0m\u001b[0m\u001b[1m\u001b[38;5;12m| \u001b[0m\u001b[0m                    \u001b[0m\u001b[0m\u001b[1m\u001b[38;5;12mCsMatBase<f64, usize, Vec<usize>, Vec<usize>, Vec<f64>>\u001b[0m\n",
      "\n",
      "\u001b[0m\u001b[1mSome errors have detailed explanations: E0061, E0277, E0369.\u001b[0m\n",
      "\u001b[0m\u001b[1mFor more information about an error, try `rustc --explain E0061`.\u001b[0m\n",
      "\u001b[1m\u001b[31merror\u001b[0m\u001b[1m:\u001b[0m could not compile `matrix_mult` (lib) due to 3 previous errors\n"
     ]
    },
    {
     "ename": "CalledProcessError",
     "evalue": "Command 'b'\\npwd\\n\\ncargo build\\n'' returned non-zero exit status 101.",
     "output_type": "error",
     "traceback": [
      "\u001b[0;31m---------------------------------------------------------------------------\u001b[0m",
      "\u001b[0;31mCalledProcessError\u001b[0m                        Traceback (most recent call last)",
      "Cell \u001b[0;32mIn[6], line 1\u001b[0m\n\u001b[0;32m----> 1\u001b[0m \u001b[43mget_ipython\u001b[49m\u001b[43m(\u001b[49m\u001b[43m)\u001b[49m\u001b[38;5;241;43m.\u001b[39;49m\u001b[43mrun_cell_magic\u001b[49m\u001b[43m(\u001b[49m\u001b[38;5;124;43m'\u001b[39;49m\u001b[38;5;124;43mbash\u001b[39;49m\u001b[38;5;124;43m'\u001b[39;49m\u001b[43m,\u001b[49m\u001b[43m \u001b[49m\u001b[38;5;124;43m'\u001b[39;49m\u001b[38;5;124;43m'\u001b[39;49m\u001b[43m,\u001b[49m\u001b[43m \u001b[49m\u001b[38;5;124;43m'\u001b[39;49m\u001b[38;5;130;43;01m\\n\u001b[39;49;00m\u001b[38;5;124;43mpwd\u001b[39;49m\u001b[38;5;130;43;01m\\n\u001b[39;49;00m\u001b[38;5;130;43;01m\\n\u001b[39;49;00m\u001b[38;5;124;43mcargo build\u001b[39;49m\u001b[38;5;130;43;01m\\n\u001b[39;49;00m\u001b[38;5;124;43m'\u001b[39;49m\u001b[43m)\u001b[49m\n",
      "File \u001b[0;32m/opt/miniconda/envs/r42/lib/python3.12/site-packages/IPython/core/interactiveshell.py:2541\u001b[0m, in \u001b[0;36mInteractiveShell.run_cell_magic\u001b[0;34m(self, magic_name, line, cell)\u001b[0m\n\u001b[1;32m   2539\u001b[0m \u001b[38;5;28;01mwith\u001b[39;00m \u001b[38;5;28mself\u001b[39m\u001b[38;5;241m.\u001b[39mbuiltin_trap:\n\u001b[1;32m   2540\u001b[0m     args \u001b[38;5;241m=\u001b[39m (magic_arg_s, cell)\n\u001b[0;32m-> 2541\u001b[0m     result \u001b[38;5;241m=\u001b[39m \u001b[43mfn\u001b[49m\u001b[43m(\u001b[49m\u001b[38;5;241;43m*\u001b[39;49m\u001b[43margs\u001b[49m\u001b[43m,\u001b[49m\u001b[43m \u001b[49m\u001b[38;5;241;43m*\u001b[39;49m\u001b[38;5;241;43m*\u001b[39;49m\u001b[43mkwargs\u001b[49m\u001b[43m)\u001b[49m\n\u001b[1;32m   2543\u001b[0m \u001b[38;5;66;03m# The code below prevents the output from being displayed\u001b[39;00m\n\u001b[1;32m   2544\u001b[0m \u001b[38;5;66;03m# when using magics with decorator @output_can_be_silenced\u001b[39;00m\n\u001b[1;32m   2545\u001b[0m \u001b[38;5;66;03m# when the last Python token in the expression is a ';'.\u001b[39;00m\n\u001b[1;32m   2546\u001b[0m \u001b[38;5;28;01mif\u001b[39;00m \u001b[38;5;28mgetattr\u001b[39m(fn, magic\u001b[38;5;241m.\u001b[39mMAGIC_OUTPUT_CAN_BE_SILENCED, \u001b[38;5;28;01mFalse\u001b[39;00m):\n",
      "File \u001b[0;32m/opt/miniconda/envs/r42/lib/python3.12/site-packages/IPython/core/magics/script.py:155\u001b[0m, in \u001b[0;36mScriptMagics._make_script_magic.<locals>.named_script_magic\u001b[0;34m(line, cell)\u001b[0m\n\u001b[1;32m    153\u001b[0m \u001b[38;5;28;01melse\u001b[39;00m:\n\u001b[1;32m    154\u001b[0m     line \u001b[38;5;241m=\u001b[39m script\n\u001b[0;32m--> 155\u001b[0m \u001b[38;5;28;01mreturn\u001b[39;00m \u001b[38;5;28;43mself\u001b[39;49m\u001b[38;5;241;43m.\u001b[39;49m\u001b[43mshebang\u001b[49m\u001b[43m(\u001b[49m\u001b[43mline\u001b[49m\u001b[43m,\u001b[49m\u001b[43m \u001b[49m\u001b[43mcell\u001b[49m\u001b[43m)\u001b[49m\n",
      "File \u001b[0;32m/opt/miniconda/envs/r42/lib/python3.12/site-packages/IPython/core/magics/script.py:315\u001b[0m, in \u001b[0;36mScriptMagics.shebang\u001b[0;34m(self, line, cell)\u001b[0m\n\u001b[1;32m    310\u001b[0m \u001b[38;5;28;01mif\u001b[39;00m args\u001b[38;5;241m.\u001b[39mraise_error \u001b[38;5;129;01mand\u001b[39;00m p\u001b[38;5;241m.\u001b[39mreturncode \u001b[38;5;241m!=\u001b[39m \u001b[38;5;241m0\u001b[39m:\n\u001b[1;32m    311\u001b[0m     \u001b[38;5;66;03m# If we get here and p.returncode is still None, we must have\u001b[39;00m\n\u001b[1;32m    312\u001b[0m     \u001b[38;5;66;03m# killed it but not yet seen its return code. We don't wait for it,\u001b[39;00m\n\u001b[1;32m    313\u001b[0m     \u001b[38;5;66;03m# in case it's stuck in uninterruptible sleep. -9 = SIGKILL\u001b[39;00m\n\u001b[1;32m    314\u001b[0m     rc \u001b[38;5;241m=\u001b[39m p\u001b[38;5;241m.\u001b[39mreturncode \u001b[38;5;129;01mor\u001b[39;00m \u001b[38;5;241m-\u001b[39m\u001b[38;5;241m9\u001b[39m\n\u001b[0;32m--> 315\u001b[0m     \u001b[38;5;28;01mraise\u001b[39;00m CalledProcessError(rc, cell)\n",
      "\u001b[0;31mCalledProcessError\u001b[0m: Command 'b'\\npwd\\n\\ncargo build\\n'' returned non-zero exit status 101."
     ]
    }
   ],
   "source": [
    "%%bash\n",
    "\n",
    "pwd\n",
    "\n",
    "cargo build"
   ]
  },
  {
   "cell_type": "code",
   "execution_count": 18,
   "metadata": {
    "vscode": {
     "languageId": "shellscript"
    }
   },
   "outputs": [
    {
     "name": "stderr",
     "output_type": "stream",
     "text": [
      "🔗 Found pyo3 bindings\n",
      "🐍 Found CPython 3.12 at /opt/miniconda/envs/r42/bin/python\n",
      "\u001b[1m\u001b[32m   Compiling\u001b[0m pyo3-build-config v0.18.3\n",
      "\u001b[1m\u001b[32m   Compiling\u001b[0m pyo3-ffi v0.18.3\n",
      "\u001b[1m\u001b[32m   Compiling\u001b[0m pyo3 v0.18.3\n",
      "\u001b[1m\u001b[32m   Compiling\u001b[0m sparse_module v0.1.0 (/mnt/ssd/geneplus/develop/liushen/DDRTree/Python/tests/sparse_module)\n",
      "\u001b[1m\u001b[32m    Finished\u001b[0m dev [unoptimized + debuginfo] target(s) in 5.33s\n",
      "📦 Built wheel for CPython 3.12 to /tmp/.tmpxeIAxt/sparse_module-0.1.0-cp312-cp312-linux_x86_64.whl\n",
      "⚠️ Warning: pip raised a warning running [\"-m\", \"pip\", \"--disable-pip-version-check\", \"install\", \"--no-deps\", \"--force-reinstall\", \"/tmp/.tmpxeIAxt/sparse_module-0.1.0-cp312-cp312-linux_x86_64.whl\"]:\n",
      "\u001b[33mDEPRECATION: Loading egg at /opt/miniconda/envs/r42/lib/python3.12/site-packages/example-0.1-py3.12-linux-x86_64.egg is deprecated. pip 25.1 will enforce this behaviour change. A possible replacement is to use pip for package installation. Discussion can be found at https://github.com/pypa/pip/issues/12330\u001b[0m\u001b[33m\n",
      "\u001b[0m\u001b[33mWARNING: Running pip as the 'root' user can result in broken permissions and conflicting behaviour with the system package manager, possibly rendering your system unusable.It is recommended to use a virtual environment instead: https://pip.pypa.io/warnings/venv. Use the --root-user-action option if you know what you are doing and want to suppress this warning.\u001b[0m\u001b[33m\n",
      "\u001b[0m\n"
     ]
    },
    {
     "name": "stdout",
     "output_type": "stream",
     "text": [
      "✏️  Setting installed package as editable\n"
     ]
    },
    {
     "name": "stderr",
     "output_type": "stream",
     "text": [
      "🛠 Installed sparse_module-0.1.0\n"
     ]
    }
   ],
   "source": [
    "%%bash\n",
    "maturin develop"
   ]
  },
  {
   "cell_type": "code",
   "execution_count": 25,
   "metadata": {},
   "outputs": [
    {
     "name": "stdout",
     "output_type": "stream",
     "text": [
      "Matrix A (CSR format):\n",
      "[[0.         0.         0.88676064]\n",
      " [0.         0.         0.        ]\n",
      " [0.05808361 0.60111501 0.70807258]]\n",
      "Matrix B (CSR format):\n",
      "[[0.        0.        0.       ]\n",
      " [0.        1.4443482 0.       ]]\n",
      "Calling Rust function with the following parameters:\n",
      "Matrix A data: [0.88676064 0.05808361 0.60111501 0.70807258]\n",
      "Matrix A indices: [2 0 1 2]\n",
      "Matrix A indptr: [0 1 1 4]\n",
      "Matrix B data: [1.4443482]\n",
      "Matrix B indices: [1]\n",
      "Matrix B indptr: [0 0 1]\n"
     ]
    },
    {
     "ename": "ValueError",
     "evalue": "index pointer size 3 should be 4",
     "output_type": "error",
     "traceback": [
      "\u001b[0;31m---------------------------------------------------------------------------\u001b[0m",
      "\u001b[0;31mValueError\u001b[0m                                Traceback (most recent call last)",
      "Cell \u001b[0;32mIn[25], line 51\u001b[0m\n\u001b[1;32m     48\u001b[0m     \u001b[38;5;28;01mreturn\u001b[39;00m csr_matrix((data_a, indices_a, indptr_a), shape\u001b[38;5;241m=\u001b[39m(\u001b[38;5;241m3\u001b[39m, \u001b[38;5;241m3\u001b[39m))\u001b[38;5;241m.\u001b[39mdot(csr_matrix((data_b, indices_b, indptr_b), shape\u001b[38;5;241m=\u001b[39m(\u001b[38;5;241m3\u001b[39m, \u001b[38;5;241m2\u001b[39m)))\n\u001b[1;32m     50\u001b[0m \u001b[38;5;66;03m# 调用矩阵乘法\u001b[39;00m\n\u001b[0;32m---> 51\u001b[0m result \u001b[38;5;241m=\u001b[39m \u001b[43mmultiply_csr_matrices\u001b[49m\u001b[43m(\u001b[49m\u001b[43mdata_a\u001b[49m\u001b[43m,\u001b[49m\u001b[43m \u001b[49m\u001b[43mindices_a\u001b[49m\u001b[43m,\u001b[49m\u001b[43m \u001b[49m\u001b[43mindptr_a\u001b[49m\u001b[43m,\u001b[49m\u001b[43m \u001b[49m\u001b[43mdata_b\u001b[49m\u001b[43m,\u001b[49m\u001b[43m \u001b[49m\u001b[43mindices_b\u001b[49m\u001b[43m,\u001b[49m\u001b[43m \u001b[49m\u001b[43mindptr_b\u001b[49m\u001b[43m)\u001b[49m\n\u001b[1;32m     53\u001b[0m \u001b[38;5;66;03m# 打印乘法结果\u001b[39;00m\n\u001b[1;32m     54\u001b[0m \u001b[38;5;28mprint\u001b[39m(\u001b[38;5;124m\"\u001b[39m\u001b[38;5;124mResult of A * B:\u001b[39m\u001b[38;5;124m\"\u001b[39m)\n",
      "Cell \u001b[0;32mIn[25], line 48\u001b[0m, in \u001b[0;36mmultiply_csr_matrices\u001b[0;34m(data_a, indices_a, indptr_a, data_b, indices_b, indptr_b)\u001b[0m\n\u001b[1;32m     45\u001b[0m \u001b[38;5;28mprint\u001b[39m(\u001b[38;5;124m\"\u001b[39m\u001b[38;5;124mMatrix B indptr:\u001b[39m\u001b[38;5;124m\"\u001b[39m, indptr_b)\n\u001b[1;32m     47\u001b[0m \u001b[38;5;66;03m# 假设我们生成一个简单的结果（实际应由 Rust 返回）\u001b[39;00m\n\u001b[0;32m---> 48\u001b[0m \u001b[38;5;28;01mreturn\u001b[39;00m csr_matrix((data_a, indices_a, indptr_a), shape\u001b[38;5;241m=\u001b[39m(\u001b[38;5;241m3\u001b[39m, \u001b[38;5;241m3\u001b[39m))\u001b[38;5;241m.\u001b[39mdot(\u001b[43mcsr_matrix\u001b[49m\u001b[43m(\u001b[49m\u001b[43m(\u001b[49m\u001b[43mdata_b\u001b[49m\u001b[43m,\u001b[49m\u001b[43m \u001b[49m\u001b[43mindices_b\u001b[49m\u001b[43m,\u001b[49m\u001b[43m \u001b[49m\u001b[43mindptr_b\u001b[49m\u001b[43m)\u001b[49m\u001b[43m,\u001b[49m\u001b[43m \u001b[49m\u001b[43mshape\u001b[49m\u001b[38;5;241;43m=\u001b[39;49m\u001b[43m(\u001b[49m\u001b[38;5;241;43m3\u001b[39;49m\u001b[43m,\u001b[49m\u001b[43m \u001b[49m\u001b[38;5;241;43m2\u001b[39;49m\u001b[43m)\u001b[49m\u001b[43m)\u001b[49m)\n",
      "File \u001b[0;32m/opt/miniconda/envs/r42/lib/python3.12/site-packages/scipy/sparse/_compressed.py:112\u001b[0m, in \u001b[0;36m_cs_matrix.__init__\u001b[0;34m(self, arg1, shape, dtype, copy)\u001b[0m\n\u001b[1;32m    109\u001b[0m \u001b[38;5;28;01mif\u001b[39;00m dtype \u001b[38;5;129;01mis\u001b[39;00m \u001b[38;5;129;01mnot\u001b[39;00m \u001b[38;5;28;01mNone\u001b[39;00m:\n\u001b[1;32m    110\u001b[0m     \u001b[38;5;28mself\u001b[39m\u001b[38;5;241m.\u001b[39mdata \u001b[38;5;241m=\u001b[39m \u001b[38;5;28mself\u001b[39m\u001b[38;5;241m.\u001b[39mdata\u001b[38;5;241m.\u001b[39mastype(dtype, copy\u001b[38;5;241m=\u001b[39m\u001b[38;5;28;01mFalse\u001b[39;00m)\n\u001b[0;32m--> 112\u001b[0m \u001b[38;5;28;43mself\u001b[39;49m\u001b[38;5;241;43m.\u001b[39;49m\u001b[43mcheck_format\u001b[49m\u001b[43m(\u001b[49m\u001b[43mfull_check\u001b[49m\u001b[38;5;241;43m=\u001b[39;49m\u001b[38;5;28;43;01mFalse\u001b[39;49;00m\u001b[43m)\u001b[49m\n",
      "File \u001b[0;32m/opt/miniconda/envs/r42/lib/python3.12/site-packages/scipy/sparse/_compressed.py:164\u001b[0m, in \u001b[0;36m_cs_matrix.check_format\u001b[0;34m(self, full_check)\u001b[0m\n\u001b[1;32m    161\u001b[0m M, N \u001b[38;5;241m=\u001b[39m \u001b[38;5;28mself\u001b[39m\u001b[38;5;241m.\u001b[39m_swap(\u001b[38;5;28mself\u001b[39m\u001b[38;5;241m.\u001b[39m_shape_as_2d)\n\u001b[1;32m    163\u001b[0m \u001b[38;5;28;01mif\u001b[39;00m (\u001b[38;5;28mlen\u001b[39m(\u001b[38;5;28mself\u001b[39m\u001b[38;5;241m.\u001b[39mindptr) \u001b[38;5;241m!=\u001b[39m M \u001b[38;5;241m+\u001b[39m \u001b[38;5;241m1\u001b[39m):\n\u001b[0;32m--> 164\u001b[0m     \u001b[38;5;28;01mraise\u001b[39;00m \u001b[38;5;167;01mValueError\u001b[39;00m(\u001b[38;5;124mf\u001b[39m\u001b[38;5;124m\"\u001b[39m\u001b[38;5;124mindex pointer size \u001b[39m\u001b[38;5;132;01m{\u001b[39;00m\u001b[38;5;28mlen\u001b[39m(\u001b[38;5;28mself\u001b[39m\u001b[38;5;241m.\u001b[39mindptr)\u001b[38;5;132;01m}\u001b[39;00m\u001b[38;5;124m should be \u001b[39m\u001b[38;5;132;01m{\u001b[39;00mM\u001b[38;5;250m \u001b[39m\u001b[38;5;241m+\u001b[39m\u001b[38;5;250m \u001b[39m\u001b[38;5;241m1\u001b[39m\u001b[38;5;132;01m}\u001b[39;00m\u001b[38;5;124m\"\u001b[39m)\n\u001b[1;32m    165\u001b[0m \u001b[38;5;28;01mif\u001b[39;00m (\u001b[38;5;28mself\u001b[39m\u001b[38;5;241m.\u001b[39mindptr[\u001b[38;5;241m0\u001b[39m] \u001b[38;5;241m!=\u001b[39m \u001b[38;5;241m0\u001b[39m):\n\u001b[1;32m    166\u001b[0m     \u001b[38;5;28;01mraise\u001b[39;00m \u001b[38;5;167;01mValueError\u001b[39;00m(\u001b[38;5;124m\"\u001b[39m\u001b[38;5;124mindex pointer should start with 0\u001b[39m\u001b[38;5;124m\"\u001b[39m)\n",
      "\u001b[0;31mValueError\u001b[0m: index pointer size 3 should be 4"
     ]
    }
   ],
   "source": [
    "import numpy as np\n",
    "from scipy.sparse import csr_matrix\n",
    "\n",
    "# 随机设置种子，以确保可重复的结果\n",
    "np.random.seed(42)\n",
    "\n",
    "# 生成稀疏矩阵 A (3 x 3)\n",
    "row_a = np.random.randint(0, 3, size=5)  # 随机行索引\n",
    "col_a = np.random.randint(0, 3, size=5)  # 随机列索引\n",
    "data_a = np.random.rand(5)  # 随机非零值\n",
    "matrix_a = csr_matrix((data_a, (row_a, col_a)), shape=(3, 3))\n",
    "\n",
    "# 生成稀疏矩阵 B (3 x 2)\n",
    "row_b = np.random.randint(0, 2, size=4)  # 随机行索引\n",
    "col_b = np.random.randint(0, 2, size=4)  # 随机列索引\n",
    "data_b = np.random.rand(4)  # 随机非零值\n",
    "matrix_b = csr_matrix((data_b, (row_b, col_b)), shape=(2, 3))\n",
    "\n",
    "# 打印生成的稀疏矩阵\n",
    "print(\"Matrix A (CSR format):\")\n",
    "print(matrix_a.toarray())  # 转换为密集格式以查看\n",
    "print(\"Matrix B (CSR format):\")\n",
    "print(matrix_b.toarray())\n",
    "\n",
    "# 提取 CSR 矩阵的参数\n",
    "data_a = matrix_a.data\n",
    "indices_a = matrix_a.indices\n",
    "indptr_a = matrix_a.indptr\n",
    "\n",
    "data_b = matrix_b.data\n",
    "indices_b = matrix_b.indices\n",
    "indptr_b = matrix_b.indptr\n",
    "\n",
    "# 假设你已经实现了 Rust 的 multiply_csr_matrices 函数\n",
    "# 这里我们将准备传递给 Rust 的参数\n",
    "def multiply_csr_matrices(data_a, indices_a, indptr_a, data_b, indices_b, indptr_b):\n",
    "    # 这里用伪代码表示 Rust 调用\n",
    "    # 请将以下语句替换为实际的 Rust 调用\n",
    "    print(\"Calling Rust function with the following parameters:\")\n",
    "    print(\"Matrix A data:\", data_a)\n",
    "    print(\"Matrix A indices:\", indices_a)\n",
    "    print(\"Matrix A indptr:\", indptr_a)\n",
    "    print(\"Matrix B data:\", data_b)\n",
    "    print(\"Matrix B indices:\", indices_b)\n",
    "    print(\"Matrix B indptr:\", indptr_b)\n",
    "    \n",
    "    # 假设我们生成一个简单的结果（实际应由 Rust 返回）\n",
    "    return csr_matrix((data_a, indices_a, indptr_a), shape=(3, 3)).dot(csr_matrix((data_b, indices_b, indptr_b), shape=(3, 2)))\n",
    "\n",
    "# 调用矩阵乘法\n",
    "result = multiply_csr_matrices(data_a, indices_a, indptr_a, data_b, indices_b, indptr_b)\n",
    "\n",
    "# 打印乘法结果\n",
    "print(\"Result of A * B:\")\n",
    "print(result.toarray())  # 转换为密集格式以查看\n"
   ]
  }
 ],
 "metadata": {
  "kernelspec": {
   "display_name": "r42",
   "language": "python",
   "name": "python3"
  },
  "language_info": {
   "codemirror_mode": {
    "name": "ipython",
    "version": 3
   },
   "file_extension": ".py",
   "mimetype": "text/x-python",
   "name": "python",
   "nbconvert_exporter": "python",
   "pygments_lexer": "ipython3",
   "version": "3.12.3"
  }
 },
 "nbformat": 4,
 "nbformat_minor": 2
}
